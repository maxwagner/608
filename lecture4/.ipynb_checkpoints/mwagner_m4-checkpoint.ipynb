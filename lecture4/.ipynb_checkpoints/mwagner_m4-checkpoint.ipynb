{
 "cells": [
  {
   "cell_type": "markdown",
   "metadata": {},
   "source": [
    "## Max Wagner\n",
    "## Module 4 - Data 608\n",
    "\n",
    "***\n",
    "\n",
    "### Read in the data, get a few basic properties about it"
   ]
  },
  {
   "cell_type": "code",
   "execution_count": 1,
   "metadata": {
    "collapsed": true
   },
   "outputs": [],
   "source": [
    "import bokeh\n",
    "import pandas as pd"
   ]
  },
  {
   "cell_type": "code",
   "execution_count": 2,
   "metadata": {
    "collapsed": true
   },
   "outputs": [],
   "source": [
    "url = \"https://raw.githubusercontent.com/jlaurito/CUNY_IS608/master/lecture4/data/riverkeeper_data_2013.csv\"\n",
    "riverkeeper = pd.read_csv(url)"
   ]
  },
  {
   "cell_type": "code",
   "execution_count": 3,
   "metadata": {
    "collapsed": false
   },
   "outputs": [
    {
     "data": {
      "text/html": [
       "<div>\n",
       "<table border=\"1\" class=\"dataframe\">\n",
       "  <thead>\n",
       "    <tr style=\"text-align: right;\">\n",
       "      <th></th>\n",
       "      <th>Site</th>\n",
       "      <th>Date</th>\n",
       "      <th>EnteroCount</th>\n",
       "      <th>FourDayRainTotal</th>\n",
       "      <th>SampleCount</th>\n",
       "    </tr>\n",
       "  </thead>\n",
       "  <tbody>\n",
       "    <tr>\n",
       "      <th>0</th>\n",
       "      <td>Hudson above Mohawk River</td>\n",
       "      <td>10/16/2011</td>\n",
       "      <td>1733</td>\n",
       "      <td>1.5</td>\n",
       "      <td>35</td>\n",
       "    </tr>\n",
       "    <tr>\n",
       "      <th>1</th>\n",
       "      <td>Hudson above Mohawk River</td>\n",
       "      <td>10/21/2013</td>\n",
       "      <td>4</td>\n",
       "      <td>0.2</td>\n",
       "      <td>35</td>\n",
       "    </tr>\n",
       "    <tr>\n",
       "      <th>2</th>\n",
       "      <td>Hudson above Mohawk River</td>\n",
       "      <td>9/21/2013</td>\n",
       "      <td>20</td>\n",
       "      <td>0.0</td>\n",
       "      <td>35</td>\n",
       "    </tr>\n",
       "    <tr>\n",
       "      <th>3</th>\n",
       "      <td>Hudson above Mohawk River</td>\n",
       "      <td>8/19/2013</td>\n",
       "      <td>6</td>\n",
       "      <td>0.0</td>\n",
       "      <td>35</td>\n",
       "    </tr>\n",
       "    <tr>\n",
       "      <th>4</th>\n",
       "      <td>Hudson above Mohawk River</td>\n",
       "      <td>7/21/2013</td>\n",
       "      <td>31</td>\n",
       "      <td>0.0</td>\n",
       "      <td>35</td>\n",
       "    </tr>\n",
       "  </tbody>\n",
       "</table>\n",
       "</div>"
      ],
      "text/plain": [
       "                        Site        Date EnteroCount  FourDayRainTotal  \\\n",
       "0  Hudson above Mohawk River  10/16/2011        1733               1.5   \n",
       "1  Hudson above Mohawk River  10/21/2013           4               0.2   \n",
       "2  Hudson above Mohawk River   9/21/2013          20               0.0   \n",
       "3  Hudson above Mohawk River   8/19/2013           6               0.0   \n",
       "4  Hudson above Mohawk River   7/21/2013          31               0.0   \n",
       "\n",
       "   SampleCount  \n",
       "0           35  \n",
       "1           35  \n",
       "2           35  \n",
       "3           35  \n",
       "4           35  "
      ]
     },
     "execution_count": 3,
     "metadata": {},
     "output_type": "execute_result"
    }
   ],
   "source": [
    "riverkeeper.head()"
   ]
  },
  {
   "cell_type": "code",
   "execution_count": 4,
   "metadata": {
    "collapsed": false
   },
   "outputs": [
    {
     "data": {
      "text/plain": [
       "Site                 object\n",
       "Date                 object\n",
       "EnteroCount          object\n",
       "FourDayRainTotal    float64\n",
       "SampleCount           int64\n",
       "dtype: object"
      ]
     },
     "execution_count": 4,
     "metadata": {},
     "output_type": "execute_result"
    }
   ],
   "source": [
    "riverkeeper.dtypes"
   ]
  },
  {
   "cell_type": "markdown",
   "metadata": {},
   "source": [
    "### Looks like the *EnteroCount*  and *Date* columns are objects, they should be numerics."
   ]
  },
  {
   "cell_type": "code",
   "execution_count": 5,
   "metadata": {
    "collapsed": false
   },
   "outputs": [],
   "source": [
    "# the coerce removes NaN values if they exist for some reason\n",
    "riverkeeper['EnteroCount'] = pd.to_numeric(riverkeeper['EnteroCount'], errors='coerce')\n",
    "riverkeeper['Date'] =  pd.to_datetime(riverkeeper['Date'], format='%m/%d/%Y')"
   ]
  },
  {
   "cell_type": "code",
   "execution_count": 6,
   "metadata": {
    "collapsed": false
   },
   "outputs": [
    {
     "data": {
      "text/plain": [
       "Site                        object\n",
       "Date                datetime64[ns]\n",
       "EnteroCount                float64\n",
       "FourDayRainTotal           float64\n",
       "SampleCount                  int64\n",
       "dtype: object"
      ]
     },
     "execution_count": 6,
     "metadata": {},
     "output_type": "execute_result"
    }
   ],
   "source": [
    "riverkeeper.dtypes"
   ]
  },
  {
   "cell_type": "markdown",
   "metadata": {},
   "source": [
    "### 1. Find the best and worst places to swim based on the *EnteroCount* column."
   ]
  },
  {
   "cell_type": "code",
   "execution_count": 13,
   "metadata": {
    "collapsed": false
   },
   "outputs": [],
   "source": [
    "rf_group = riverkeeper.groupby('Site')\n",
    "rf_best = rf_group.mean().sort_values(by = 'EnteroCount').head(10) # best\n",
    "rf_worst = rf_group.mean().sort_values(by = 'EnteroCount', ascending = False).head(10) # worst"
   ]
  },
  {
   "cell_type": "code",
   "execution_count": 14,
   "metadata": {
    "collapsed": false
   },
   "outputs": [
    {
     "data": {
      "text/html": [
       "<div>\n",
       "<table border=\"1\" class=\"dataframe\">\n",
       "  <thead>\n",
       "    <tr style=\"text-align: right;\">\n",
       "      <th></th>\n",
       "      <th>EnteroCount</th>\n",
       "      <th>FourDayRainTotal</th>\n",
       "      <th>SampleCount</th>\n",
       "    </tr>\n",
       "    <tr>\n",
       "      <th>Site</th>\n",
       "      <th></th>\n",
       "      <th></th>\n",
       "      <th></th>\n",
       "    </tr>\n",
       "  </thead>\n",
       "  <tbody>\n",
       "    <tr>\n",
       "      <th>Poughkeepsie Drinking Water Intake</th>\n",
       "      <td>9.454545</td>\n",
       "      <td>0.350000</td>\n",
       "      <td>38</td>\n",
       "    </tr>\n",
       "    <tr>\n",
       "      <th>Marlboro Landing</th>\n",
       "      <td>16.470588</td>\n",
       "      <td>0.291429</td>\n",
       "      <td>35</td>\n",
       "    </tr>\n",
       "    <tr>\n",
       "      <th>Poughkeepsie Launch Ramp</th>\n",
       "      <td>17.675676</td>\n",
       "      <td>0.318919</td>\n",
       "      <td>37</td>\n",
       "    </tr>\n",
       "    <tr>\n",
       "      <th>Little Stony Point</th>\n",
       "      <td>20.030303</td>\n",
       "      <td>0.368421</td>\n",
       "      <td>38</td>\n",
       "    </tr>\n",
       "    <tr>\n",
       "      <th>Croton Point Beach</th>\n",
       "      <td>20.480000</td>\n",
       "      <td>0.464583</td>\n",
       "      <td>48</td>\n",
       "    </tr>\n",
       "    <tr>\n",
       "      <th>Fort Montgomery</th>\n",
       "      <td>22.117647</td>\n",
       "      <td>0.302778</td>\n",
       "      <td>36</td>\n",
       "    </tr>\n",
       "    <tr>\n",
       "      <th>Cold Spring Harbor</th>\n",
       "      <td>23.176471</td>\n",
       "      <td>0.305714</td>\n",
       "      <td>35</td>\n",
       "    </tr>\n",
       "    <tr>\n",
       "      <th>Stony Point mid-channel</th>\n",
       "      <td>23.458333</td>\n",
       "      <td>0.461364</td>\n",
       "      <td>44</td>\n",
       "    </tr>\n",
       "    <tr>\n",
       "      <th>West Point STP Outfall</th>\n",
       "      <td>26.875000</td>\n",
       "      <td>0.280556</td>\n",
       "      <td>36</td>\n",
       "    </tr>\n",
       "    <tr>\n",
       "      <th>Haverstraw Bay mid-channel</th>\n",
       "      <td>28.173913</td>\n",
       "      <td>0.466667</td>\n",
       "      <td>48</td>\n",
       "    </tr>\n",
       "  </tbody>\n",
       "</table>\n",
       "</div>"
      ],
      "text/plain": [
       "                                    EnteroCount  FourDayRainTotal  SampleCount\n",
       "Site                                                                          \n",
       "Poughkeepsie Drinking Water Intake     9.454545          0.350000           38\n",
       "Marlboro Landing                      16.470588          0.291429           35\n",
       "Poughkeepsie Launch Ramp              17.675676          0.318919           37\n",
       "Little Stony Point                    20.030303          0.368421           38\n",
       "Croton Point Beach                    20.480000          0.464583           48\n",
       "Fort Montgomery                       22.117647          0.302778           36\n",
       "Cold Spring Harbor                    23.176471          0.305714           35\n",
       "Stony Point mid-channel               23.458333          0.461364           44\n",
       "West Point STP Outfall                26.875000          0.280556           36\n",
       "Haverstraw Bay mid-channel            28.173913          0.466667           48"
      ]
     },
     "execution_count": 14,
     "metadata": {},
     "output_type": "execute_result"
    }
   ],
   "source": [
    "rf_best"
   ]
  },
  {
   "cell_type": "code",
   "execution_count": 15,
   "metadata": {
    "collapsed": false
   },
   "outputs": [
    {
     "data": {
      "text/html": [
       "<div>\n",
       "<table border=\"1\" class=\"dataframe\">\n",
       "  <thead>\n",
       "    <tr style=\"text-align: right;\">\n",
       "      <th></th>\n",
       "      <th>EnteroCount</th>\n",
       "      <th>FourDayRainTotal</th>\n",
       "      <th>SampleCount</th>\n",
       "    </tr>\n",
       "    <tr>\n",
       "      <th>Site</th>\n",
       "      <th></th>\n",
       "      <th></th>\n",
       "      <th></th>\n",
       "    </tr>\n",
       "  </thead>\n",
       "  <tbody>\n",
       "    <tr>\n",
       "      <th>Gowanus Canal</th>\n",
       "      <td>1384.120000</td>\n",
       "      <td>0.816216</td>\n",
       "      <td>37</td>\n",
       "    </tr>\n",
       "    <tr>\n",
       "      <th>Saw Mill River</th>\n",
       "      <td>1055.695652</td>\n",
       "      <td>0.742000</td>\n",
       "      <td>50</td>\n",
       "    </tr>\n",
       "    <tr>\n",
       "      <th>Upper Sparkill Creek</th>\n",
       "      <td>818.601399</td>\n",
       "      <td>0.526061</td>\n",
       "      <td>165</td>\n",
       "    </tr>\n",
       "    <tr>\n",
       "      <th>Kingsland Pt. Park- Pocantico River</th>\n",
       "      <td>573.500000</td>\n",
       "      <td>0.602381</td>\n",
       "      <td>42</td>\n",
       "    </tr>\n",
       "    <tr>\n",
       "      <th>Piermont Pier</th>\n",
       "      <td>545.121212</td>\n",
       "      <td>0.533690</td>\n",
       "      <td>187</td>\n",
       "    </tr>\n",
       "    <tr>\n",
       "      <th>Newtown Creek- Metropolitan Ave. Bridge</th>\n",
       "      <td>537.302326</td>\n",
       "      <td>0.852632</td>\n",
       "      <td>57</td>\n",
       "    </tr>\n",
       "    <tr>\n",
       "      <th>Newtown Creek- Dutch Kills</th>\n",
       "      <td>529.684211</td>\n",
       "      <td>0.852632</td>\n",
       "      <td>57</td>\n",
       "    </tr>\n",
       "    <tr>\n",
       "      <th>Tarrytown Marina</th>\n",
       "      <td>529.571429</td>\n",
       "      <td>0.814815</td>\n",
       "      <td>27</td>\n",
       "    </tr>\n",
       "    <tr>\n",
       "      <th>Mohawk River at Waterford</th>\n",
       "      <td>512.030303</td>\n",
       "      <td>0.631429</td>\n",
       "      <td>35</td>\n",
       "    </tr>\n",
       "    <tr>\n",
       "      <th>Orangetown STP Outfall</th>\n",
       "      <td>508.604167</td>\n",
       "      <td>0.615789</td>\n",
       "      <td>57</td>\n",
       "    </tr>\n",
       "  </tbody>\n",
       "</table>\n",
       "</div>"
      ],
      "text/plain": [
       "                                         EnteroCount  FourDayRainTotal  \\\n",
       "Site                                                                     \n",
       "Gowanus Canal                            1384.120000          0.816216   \n",
       "Saw Mill River                           1055.695652          0.742000   \n",
       "Upper Sparkill Creek                      818.601399          0.526061   \n",
       "Kingsland Pt. Park- Pocantico River       573.500000          0.602381   \n",
       "Piermont Pier                             545.121212          0.533690   \n",
       "Newtown Creek- Metropolitan Ave. Bridge   537.302326          0.852632   \n",
       "Newtown Creek- Dutch Kills                529.684211          0.852632   \n",
       "Tarrytown Marina                          529.571429          0.814815   \n",
       "Mohawk River at Waterford                 512.030303          0.631429   \n",
       "Orangetown STP Outfall                    508.604167          0.615789   \n",
       "\n",
       "                                         SampleCount  \n",
       "Site                                                  \n",
       "Gowanus Canal                                     37  \n",
       "Saw Mill River                                    50  \n",
       "Upper Sparkill Creek                             165  \n",
       "Kingsland Pt. Park- Pocantico River               42  \n",
       "Piermont Pier                                    187  \n",
       "Newtown Creek- Metropolitan Ave. Bridge           57  \n",
       "Newtown Creek- Dutch Kills                        57  \n",
       "Tarrytown Marina                                  27  \n",
       "Mohawk River at Waterford                         35  \n",
       "Orangetown STP Outfall                            57  "
      ]
     },
     "execution_count": 15,
     "metadata": {},
     "output_type": "execute_result"
    }
   ],
   "source": [
    "rf_worst"
   ]
  },
  {
   "cell_type": "code",
   "execution_count": null,
   "metadata": {
    "collapsed": true
   },
   "outputs": [],
   "source": []
  }
 ],
 "metadata": {
  "kernelspec": {
   "display_name": "Python [default]",
   "language": "python",
   "name": "python2"
  },
  "language_info": {
   "codemirror_mode": {
    "name": "ipython",
    "version": 2
   },
   "file_extension": ".py",
   "mimetype": "text/x-python",
   "name": "python",
   "nbconvert_exporter": "python",
   "pygments_lexer": "ipython2",
   "version": "2.7.12"
  }
 },
 "nbformat": 4,
 "nbformat_minor": 1
}
